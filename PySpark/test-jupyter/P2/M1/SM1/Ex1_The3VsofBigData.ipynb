{
 "cells": [
  {
   "cell_type": "markdown",
   "id": "a556cf56",
   "metadata": {},
   "source": [
    "# Ex1 - The 3 V's of Big Data\n",
    "- Which of the following is NOT considered as one of the three Vs of Big Data?\n",
    "\n",
    "## Answer the Question\n",
    "\n",
    "### Possible Answers\n",
    "- A) Volume\n",
    "- B) Velocity\n",
    "- C) Variation\n",
    "- D) Variety\n"
   ]
  }
 ],
 "metadata": {
  "kernelspec": {
   "display_name": "Python 3",
   "language": "python",
   "name": "python3"
  },
  "language_info": {
   "codemirror_mode": {
    "name": "ipython",
    "version": 3
   },
   "file_extension": ".py",
   "mimetype": "text/x-python",
   "name": "python",
   "nbconvert_exporter": "python",
   "pygments_lexer": "ipython3",
   "version": "3.6.9"
  }
 },
 "nbformat": 4,
 "nbformat_minor": 5
}
