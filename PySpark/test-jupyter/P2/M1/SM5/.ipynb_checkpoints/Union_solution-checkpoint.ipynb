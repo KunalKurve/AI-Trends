{
 "cells": [
  {
   "cell_type": "code",
   "execution_count": 1,
   "id": "2b224e89",
   "metadata": {},
   "outputs": [],
   "source": [
    "# Intialization\n",
    "import os\n",
    "import sys\n",
    "\n",
    "os.environ[\"SPARK_HOME\"] = \"/home/talentum/spark\"\n",
    "os.environ[\"PYLIB\"] = os.environ[\"SPARK_HOME\"] + \"/python/lib\"\n",
    "# In below two lines, use /usr/bin/python2.7 if you want to use Python 2\n",
    "os.environ[\"PYSPARK_PYTHON\"] = \"/usr/bin/python3.6\" \n",
    "os.environ[\"PYSPARK_DRIVER_PYTHON\"] = \"/usr/bin/python3\"\n",
    "sys.path.insert(0, os.environ[\"PYLIB\"] +\"/py4j-0.10.7-src.zip\")\n",
    "sys.path.insert(0, os.environ[\"PYLIB\"] +\"/pyspark.zip\")\n",
    "\n",
    "# NOTE: Whichever package you want mention here.\n",
    "# os.environ['PYSPARK_SUBMIT_ARGS'] = '--packages com.databricks:spark-xml_2.11:0.6.0 pyspark-shell' \n",
    "# os.environ['PYSPARK_SUBMIT_ARGS'] = '--packages org.apache.spark:spark-avro_2.11:2.4.0 pyspark-shell'\n",
    "os.environ['PYSPARK_SUBMIT_ARGS'] = '--packages com.databricks:spark-xml_2.11:0.6.0,org.apache.spark:spark-avro_2.11:2.4.3 pyspark-shell'\n",
    "# os.environ['PYSPARK_SUBMIT_ARGS'] = '--packages com.databricks:spark-xml_2.11:0.6.0,org.apache.spark:spark-avro_2.11:2.4.0 pyspark-shell'"
   ]
  },
  {
   "cell_type": "code",
   "execution_count": 2,
   "id": "f7c767bd",
   "metadata": {},
   "outputs": [],
   "source": [
    "#Entrypoint 2.x\n",
    "from pyspark.sql import SparkSession\n",
    "spark = SparkSession.builder.appName(\"Spark SQL basic example\").enableHiveSupport().getOrCreate()\n",
    "\n",
    "# On yarn:\n",
    "# spark = SparkSession.builder.appName(\"Spark SQL basic example\").enableHiveSupport().master(\"yarn\").getOrCreate()\n",
    "# specify .master(\"yarn\")\n",
    "\n",
    "sc = spark.sparkContext"
   ]
  },
  {
   "cell_type": "code",
   "execution_count": 8,
   "id": "5f4ed2e9",
   "metadata": {},
   "outputs": [
    {
     "name": "stdout",
     "output_type": "stream",
     "text": [
      "4\n"
     ]
    }
   ],
   "source": [
    "inputRDD = sc.textFile(\"file:///home/talentum/test-jupyter/P2/M1/SM5/hadoop-hdfs-namenode-node.log\")\n",
    "errorsRDD = inputRDD.filter(lambda x: \"ERROR\" in x.split())\n",
    "warningsRDD = inputRDD.filter(lambda x: \"WARN\" in x.split())\n",
    "combinedRDD = errorsRDD.union(warningsRDD)\n",
    "# combinedRDD.collect()\n",
    "print(combinedRDD.getNumPartitions())\n",
    "#creates a folder and creates 4 files which contain combinedRDD DATA\n",
    "combinedRDD.saveAsTextFile(\"file:///home/talentum/abc.txt\") "
   ]
  },
  {
   "cell_type": "code",
   "execution_count": 9,
   "id": "6fdc8434",
   "metadata": {},
   "outputs": [],
   "source": [
    "combinedRDD=combinedRDD.coalesce(1)"
   ]
  },
  {
   "cell_type": "code",
   "execution_count": 11,
   "id": "bbfaf42a",
   "metadata": {},
   "outputs": [
    {
     "name": "stdout",
     "output_type": "stream",
     "text": [
      "1\n"
     ]
    }
   ],
   "source": [
    "print(combinedRDD.getNumPartitions())\n",
    "combinedRDD.saveAsTextFile(\"file:///home/talentum/ABC.txt\") "
   ]
  },
  {
   "cell_type": "code",
   "execution_count": null,
   "id": "ad4ebcc1",
   "metadata": {},
   "outputs": [],
   "source": [
    "#Apart from the two: 1. nimPartitions while creating a new RDD and 2. coalesce ,to change number of partitions -\n",
    "# we have .repartition(int) to increase the number of partitions"
   ]
  }
 ],
 "metadata": {
  "kernelspec": {
   "display_name": "Python 3",
   "language": "python",
   "name": "python3"
  },
  "language_info": {
   "codemirror_mode": {
    "name": "ipython",
    "version": 3
   },
   "file_extension": ".py",
   "mimetype": "text/x-python",
   "name": "python",
   "nbconvert_exporter": "python",
   "pygments_lexer": "ipython3",
   "version": "3.6.9"
  }
 },
 "nbformat": 4,
 "nbformat_minor": 5
}
