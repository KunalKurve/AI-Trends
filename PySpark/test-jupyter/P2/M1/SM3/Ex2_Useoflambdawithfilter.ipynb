{
 "cells": [
  {
   "cell_type": "markdown",
   "id": "d5a539ee",
   "metadata": {},
   "source": [
    "# Use of lambda() with filter()\n",
    "\n",
    "- Another function that is used extensively in Python is the `filter()` function. The `filter()` function in Python takes in a `function` and a `list` as arguments. The general syntax of the `filter()` function is `filter(function, list_of_input)`. Similar to the `map()`, `filter()` can be used with `lambda()` function. The general syntax of the `filter()` function with lambda() is `filter(lambda <argument>:<expression>, list)`. \n",
    "\n",
    "> In this exercise, you'll be using `lambda()` function inside the `filter()` built-in function to find all the numbers divisible by 10 in the list."
   ]
  },
  {
   "cell_type": "markdown",
   "id": "c286809b",
   "metadata": {},
   "source": [
    "## Instructions\n",
    "\n",
    "- Print `my_list2` which is available in your environment.\n",
    "- Filter the numbers divisible by 10 from `my_list2` using `filter()` and `lambda()`.\n",
    "- Print the numbers divisible by 10 from `my_list2`."
   ]
  },
  {
   "cell_type": "code",
   "execution_count": null,
   "id": "7cf85c6a",
   "metadata": {},
   "outputs": [],
   "source": [
    "my_list2 = [10, 21, 31, 40, 51, 60, 72, 80, 93, 101]"
   ]
  },
  {
   "cell_type": "code",
   "execution_count": null,
   "id": "b1dd945e",
   "metadata": {},
   "outputs": [],
   "source": [
    "# script.py\n",
    "# Print my_list2 in the console\n",
    "print(\"Input list is:\", ____)\n",
    "\n",
    "# Filter numbers divisible by 10\n",
    "filtered_list = list(____(lambda x: (x%10 == ____), my_list2))\n",
    "\n",
    "# Print the numbers divisible by 10\n",
    "print(\"Numbers divisible by 10 are:\", ____)"
   ]
  }
 ],
 "metadata": {
  "kernelspec": {
   "display_name": "Python 3",
   "language": "python",
   "name": "python3"
  },
  "language_info": {
   "codemirror_mode": {
    "name": "ipython",
    "version": 3
   },
   "file_extension": ".py",
   "mimetype": "text/x-python",
   "name": "python",
   "nbconvert_exporter": "python",
   "pygments_lexer": "ipython3",
   "version": "3.6.9"
  }
 },
 "nbformat": 4,
 "nbformat_minor": 5
}
