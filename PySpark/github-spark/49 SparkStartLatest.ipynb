{
 "cells": [
  {
   "cell_type": "code",
   "execution_count": 1,
   "id": "0de212f9",
   "metadata": {},
   "outputs": [],
   "source": [
    "# Intialization\n",
    "import os\n",
    "import sys\n",
    "\n",
    "os.environ[\"SPARK_HOME\"] = \"/home/talentum/spark\"\n",
    "os.environ[\"PYLIB\"] = os.environ[\"SPARK_HOME\"] + \"/python/lib\"\n",
    "# In below two lines, use /usr/bin/python2.7 if you want to use Python 2\n",
    "os.environ[\"PYSPARK_PYTHON\"] = \"/usr/bin/python3.6\" \n",
    "os.environ[\"PYSPARK_DRIVER_PYTHON\"] = \"/usr/bin/python3\"\n",
    "sys.path.insert(0, os.environ[\"PYLIB\"] +\"/py4j-0.10.7-src.zip\")\n",
    "sys.path.insert(0, os.environ[\"PYLIB\"] +\"/pyspark.zip\")\n",
    "\n",
    "# NOTE: Whichever package you want mention here.\n",
    "# os.environ['PYSPARK_SUBMIT_ARGS'] = '--packages com.databricks:spark-xml_2.11:0.6.0 pyspark-shell' \n",
    "# os.environ['PYSPARK_SUBMIT_ARGS'] = '--packages org.apache.spark:spark-avro_2.11:2.4.0 pyspark-shell'\n",
    "os.environ['PYSPARK_SUBMIT_ARGS'] = '--packages com.databricks:spark-xml_2.11:0.6.0,org.apache.spark:spark-avro_2.11:2.4.3 pyspark-shell'\n",
    "# os.environ['PYSPARK_SUBMIT_ARGS'] = '--packages com.databricks:spark-xml_2.11:0.6.0,org.apache.spark:spark-avro_2.11:2.4.0 pyspark-shell'"
   ]
  },
  {
   "cell_type": "code",
   "execution_count": 2,
   "id": "cc0b6d9b",
   "metadata": {},
   "outputs": [],
   "source": [
    "#Entrypoint 2.x\n",
    "from pyspark.sql import SparkSession\n",
    "spark = SparkSession.builder.appName(\"Spark SQL basic example\").enableHiveSupport().getOrCreate()\n",
    "\n",
    "# On yarn:\n",
    "# spark = SparkSession.builder.appName(\"Spark SQL basic example\").enableHiveSupport().master(\"yarn\").getOrCreate()\n",
    "# specify .master(\"yarn\")\n",
    "\n",
    "sc = spark.sparkContext"
   ]
  },
  {
   "cell_type": "markdown",
   "id": "3220df4a",
   "metadata": {},
   "source": [
    "## RDD Test"
   ]
  },
  {
   "cell_type": "code",
   "execution_count": 3,
   "id": "3a1efb61",
   "metadata": {},
   "outputs": [
    {
     "name": "stdout",
     "output_type": "stream",
     "text": [
      "2.4.5\n",
      "3.6\n"
     ]
    }
   ],
   "source": [
    "from pyspark import SparkContext, SparkConf\n",
    "print(sc.version)\n",
    "print(sc.pythonVer)"
   ]
  },
  {
   "cell_type": "markdown",
   "id": "0b6a3761",
   "metadata": {},
   "source": [
    "## Loading XML data"
   ]
  },
  {
   "cell_type": "code",
   "execution_count": 4,
   "id": "92013acf",
   "metadata": {},
   "outputs": [
    {
     "name": "stdout",
     "output_type": "stream",
     "text": [
      "+-----+--------------------+--------------------+---------------+-----+------------+--------------------+\n",
      "|  _id|              author|         description|          genre|price|publish_date|               title|\n",
      "+-----+--------------------+--------------------+---------------+-----+------------+--------------------+\n",
      "|bk101|Gambardella, Matthew|An in-depth look ...|       Computer|44.95|  2000-10-01|XML Developer's G...|\n",
      "|bk102|          Ralls, Kim|A former architec...|        Fantasy| 5.95|  2000-12-16|       Midnight Rain|\n",
      "|bk103|         Corets, Eva|After the collaps...|        Fantasy| 5.95|  2000-11-17|     Maeve Ascendant|\n",
      "|bk104|         Corets, Eva|In post-apocalyps...|        Fantasy| 5.95|  2001-03-10|     Oberon's Legacy|\n",
      "|bk105|         Corets, Eva|The two daughters...|        Fantasy| 5.95|  2001-09-10|  The Sundered Grail|\n",
      "|bk106|    Randall, Cynthia|When Carla meets ...|        Romance| 4.95|  2000-09-02|         Lover Birds|\n",
      "|bk107|      Thurman, Paula|A deep sea diver ...|        Romance| 4.95|  2000-11-02|       Splish Splash|\n",
      "|bk108|       Knorr, Stefan|An anthology of h...|         Horror| 4.95|  2000-12-06|     Creepy Crawlies|\n",
      "|bk109|        Kress, Peter|After an inadvert...|Science Fiction| 6.95|  2000-11-02|        Paradox Lost|\n",
      "|bk110|        O'Brien, Tim|Microsoft's .NET ...|       Computer|36.95|  2000-12-09|Microsoft .NET: T...|\n",
      "|bk111|        O'Brien, Tim|The Microsoft MSX...|       Computer|36.95|  2000-12-01|MSXML3: A Compreh...|\n",
      "|bk112|         Galos, Mike|Microsoft Visual ...|       Computer|49.95|  2001-04-16|Visual Studio 7: ...|\n",
      "+-----+--------------------+--------------------+---------------+-----+------------+--------------------+\n",
      "\n"
     ]
    }
   ],
   "source": [
    "# Loading XML\n",
    "df = spark.read.format(\"xml\").option(\"rowTag\", \"book\").load(\"file:///home/talentum/test-jupyter/test/books.xml\")\n",
    "df.show()"
   ]
  },
  {
   "cell_type": "markdown",
   "id": "05fc2109",
   "metadata": {},
   "source": [
    "## Loading Json data"
   ]
  },
  {
   "cell_type": "code",
   "execution_count": 5,
   "id": "5ec8af02",
   "metadata": {},
   "outputs": [
    {
     "name": "stdout",
     "output_type": "stream",
     "text": [
      "+----+-------+\n",
      "| age|   name|\n",
      "+----+-------+\n",
      "|null|Michael|\n",
      "|  30|   Andy|\n",
      "|  19| Justin|\n",
      "+----+-------+\n",
      "\n"
     ]
    }
   ],
   "source": [
    "# Loading JSON DATA\n",
    "df = spark.read.json(\"file:///home/talentum/test-jupyter/test/people.json\")\n",
    "df.show()"
   ]
  },
  {
   "cell_type": "markdown",
   "id": "9d591fcc",
   "metadata": {},
   "source": [
    "## Loading Avro data"
   ]
  },
  {
   "cell_type": "code",
   "execution_count": 6,
   "id": "3009dbee",
   "metadata": {},
   "outputs": [
    {
     "name": "stdout",
     "output_type": "stream",
     "text": [
      "+--------------------+----------------+------+\n",
      "|               title|        air_date|doctor|\n",
      "+--------------------+----------------+------+\n",
      "|   The Eleventh Hour|    3 April 2010|    11|\n",
      "|   The Doctor's Wife|     14 May 2011|    11|\n",
      "| Horror of Fang Rock|3 September 1977|     4|\n",
      "|  An Unearthly Child|23 November 1963|     1|\n",
      "|The Mysterious Pl...|6 September 1986|     6|\n",
      "|                Rose|   26 March 2005|     9|\n",
      "|The Power of the ...| 5 November 1966|     2|\n",
      "|          Castrolava|  4 January 1982|     5|\n",
      "+--------------------+----------------+------+\n",
      "\n"
     ]
    }
   ],
   "source": [
    "# Reading Data from AVRO format (Running from pyspark shell)\n",
    "# pyspark --packages com.databricks:spark-avro_2.11:3.2.0 --master local[2]\n",
    "df = spark.read.format(\"com.databricks.spark.avro\").load(\"file:///home/talentum/test-jupyter/test/episodes.avro\")\n",
    "# df = spark.read.format(\"avro\").load(\"/data/spark/episodes.avro\")\n",
    "df.show()"
   ]
  },
  {
   "cell_type": "markdown",
   "id": "3b0dc198",
   "metadata": {},
   "source": [
    "## Loading Parquet data"
   ]
  },
  {
   "cell_type": "code",
   "execution_count": 7,
   "id": "a272fbe1",
   "metadata": {},
   "outputs": [
    {
     "name": "stdout",
     "output_type": "stream",
     "text": [
      "+------+--------------+----------------+\n",
      "|  name|favorite_color|favorite_numbers|\n",
      "+------+--------------+----------------+\n",
      "|Alyssa|          null|  [3, 9, 15, 20]|\n",
      "|   Ben|           red|              []|\n",
      "+------+--------------+----------------+\n",
      "\n"
     ]
    }
   ],
   "source": [
    "df = spark.read.load(\"file:///home/talentum/test-jupyter/test/users.parquet\")\n",
    "df.show()"
   ]
  },
  {
   "cell_type": "code",
   "execution_count": 8,
   "id": "0c6cce4c",
   "metadata": {},
   "outputs": [
    {
     "name": "stdout",
     "output_type": "stream",
     "text": [
      "root\n",
      " |-- CESS: double (nullable = true)\n",
      " |-- CGST: double (nullable = true)\n",
      " |-- CashierID: string (nullable = true)\n",
      " |-- CreatedTime: long (nullable = true)\n",
      " |-- CustomerCardNo: string (nullable = true)\n",
      " |-- CustomerType: string (nullable = true)\n",
      " |-- DeliveryAddress: struct (nullable = true)\n",
      " |    |-- AddressLine: string (nullable = true)\n",
      " |    |-- City: string (nullable = true)\n",
      " |    |-- ContactNumber: string (nullable = true)\n",
      " |    |-- PinCode: string (nullable = true)\n",
      " |    |-- State: string (nullable = true)\n",
      " |-- DeliveryType: string (nullable = true)\n",
      " |-- InvoiceLineItems: array (nullable = true)\n",
      " |    |-- element: struct (containsNull = true)\n",
      " |    |    |-- ItemCode: string (nullable = true)\n",
      " |    |    |-- ItemDescription: string (nullable = true)\n",
      " |    |    |-- ItemPrice: double (nullable = true)\n",
      " |    |    |-- ItemQty: long (nullable = true)\n",
      " |    |    |-- TotalValue: double (nullable = true)\n",
      " |-- InvoiceNumber: string (nullable = true)\n",
      " |-- NumberOfItems: long (nullable = true)\n",
      " |-- PaymentMethod: string (nullable = true)\n",
      " |-- PosID: string (nullable = true)\n",
      " |-- SGST: double (nullable = true)\n",
      " |-- StoreID: string (nullable = true)\n",
      " |-- TaxableAmount: double (nullable = true)\n",
      " |-- TotalAmount: double (nullable = true)\n",
      "\n",
      "+-------------+------------------------------------------------------------------+-------------------------------------------------------------------------------------------------------------------------------------------------------------------------+\n",
      "|InvoiceNumber|DeliveryAddress                                                   |InvoiceLineItems                                                                                                                                                         |\n",
      "+-------------+------------------------------------------------------------------+-------------------------------------------------------------------------------------------------------------------------------------------------------------------------+\n",
      "|51402977     |null                                                              |[[458, Wine glass, 1644.0, 2, 3288.0], [283, Portable Lamps, 2236.0, 1, 2236.0], [498, Carving knifes, 1424.0, 2, 2848.0], [523, Oil-lamp clock, 1371.0, 2, 2742.0]]     |\n",
      "|91372973     |[444-1842 Dui. Rd., Shivapuri, 7243866404, 561012, Madhya Pradesh]|[[413, Slipcover, 1896.0, 1, 1896.0], [483, Teacups and saucers, 1781.0, 1, 1781.0], [583, Tab Top Curtains, 1329.0, 1, 1329.0], [558, Balloon clock, 1633.0, 2, 3266.0]]|\n",
      "+-------------+------------------------------------------------------------------+-------------------------------------------------------------------------------------------------------------------------------------------------------------------------+\n",
      "only showing top 2 rows\n",
      "\n",
      "root\n",
      " |-- InvoiceNumber: string (nullable = true)\n",
      " |-- CreatedTime: long (nullable = true)\n",
      " |-- StoreID: string (nullable = true)\n",
      " |-- PosID: string (nullable = true)\n",
      " |-- CustomerType: string (nullable = true)\n",
      " |-- PaymentMethod: string (nullable = true)\n",
      " |-- DeliveryType: string (nullable = true)\n",
      " |-- City: string (nullable = true)\n",
      " |-- State: string (nullable = true)\n",
      " |-- PinCode: string (nullable = true)\n",
      " |-- LineItem: struct (nullable = true)\n",
      " |    |-- ItemCode: string (nullable = true)\n",
      " |    |-- ItemDescription: string (nullable = true)\n",
      " |    |-- ItemPrice: double (nullable = true)\n",
      " |    |-- ItemQty: long (nullable = true)\n",
      " |    |-- TotalValue: double (nullable = true)\n",
      "\n",
      "+-------------+---------+--------------+----------------------------------------+\n",
      "|InvoiceNumber|City     |State         |LineItem                                |\n",
      "+-------------+---------+--------------+----------------------------------------+\n",
      "|51402977     |null     |null          |[458, Wine glass, 1644.0, 2, 3288.0]    |\n",
      "|51402977     |null     |null          |[283, Portable Lamps, 2236.0, 1, 2236.0]|\n",
      "|51402977     |null     |null          |[498, Carving knifes, 1424.0, 2, 2848.0]|\n",
      "|51402977     |null     |null          |[523, Oil-lamp clock, 1371.0, 2, 2742.0]|\n",
      "|91372973     |Shivapuri|Madhya Pradesh|[413, Slipcover, 1896.0, 1, 1896.0]     |\n",
      "+-------------+---------+--------------+----------------------------------------+\n",
      "only showing top 5 rows\n",
      "\n",
      "root\n",
      " |-- InvoiceNumber: string (nullable = true)\n",
      " |-- CreatedTime: long (nullable = true)\n",
      " |-- StoreID: string (nullable = true)\n",
      " |-- PosID: string (nullable = true)\n",
      " |-- CustomerType: string (nullable = true)\n",
      " |-- PaymentMethod: string (nullable = true)\n",
      " |-- DeliveryType: string (nullable = true)\n",
      " |-- City: string (nullable = true)\n",
      " |-- State: string (nullable = true)\n",
      " |-- PinCode: string (nullable = true)\n",
      " |-- ItemCode: string (nullable = true)\n",
      " |-- ItemDescription: string (nullable = true)\n",
      " |-- ItemPrice: double (nullable = true)\n",
      " |-- ItemQty: long (nullable = true)\n",
      " |-- TotalValue: double (nullable = true)\n",
      "\n",
      "+-------------+---------+--------------+--------+---------------+---------+-------+\n",
      "|InvoiceNumber|City     |State         |ItemCode|ItemDescription|ItemPrice|ItemQty|\n",
      "+-------------+---------+--------------+--------+---------------+---------+-------+\n",
      "|51402977     |null     |null          |458     |Wine glass     |1644.0   |2      |\n",
      "|51402977     |null     |null          |283     |Portable Lamps |2236.0   |1      |\n",
      "|51402977     |null     |null          |498     |Carving knifes |1424.0   |2      |\n",
      "|51402977     |null     |null          |523     |Oil-lamp clock |1371.0   |2      |\n",
      "|91372973     |Shivapuri|Madhya Pradesh|413     |Slipcover      |1896.0   |1      |\n",
      "+-------------+---------+--------------+--------+---------------+---------+-------+\n",
      "only showing top 5 rows\n",
      "\n"
     ]
    }
   ],
   "source": [
    "from pyspark.sql.functions import expr\n",
    "\n",
    "# Loading JSON DATA\n",
    "raw_df = spark.read.json(\"file:///home/talentum/test-jupyter/test/Invoice-set1.json\")\n",
    "raw_df.printSchema()\n",
    "raw_df.select(\"InvoiceNumber\", \"DeliveryAddress\", \"InvoiceLineItems\").show(2, truncate = False)\n",
    "\n",
    "explode_df = raw_df.selectExpr(\"InvoiceNumber\", \"CreatedTime\", \"StoreID\", \"PosID\",\n",
    "                                   \"CustomerType\", \"PaymentMethod\", \"DeliveryType\", \"DeliveryAddress.City\",\n",
    "                                   \"DeliveryAddress.State\", \"DeliveryAddress.PinCode\", \"explode(InvoiceLineItems) as LineItem\")\n",
    "explode_df.printSchema()\n",
    "explode_df.select(\"InvoiceNumber\", \"City\", \"State\", \"LineItem\").show(5, truncate = False)\n",
    "\n",
    "flattened_df = explode_df \\\n",
    "        .withColumn(\"ItemCode\", expr(\"LineItem.ItemCode\")) \\\n",
    "        .withColumn(\"ItemDescription\", expr(\"LineItem.ItemDescription\")) \\\n",
    "        .withColumn(\"ItemPrice\", expr(\"LineItem.ItemPrice\")) \\\n",
    "        .withColumn(\"ItemQty\", expr(\"LineItem.ItemQty\")) \\\n",
    "        .withColumn(\"TotalValue\", expr(\"LineItem.TotalValue\")) \\\n",
    "        .drop(\"LineItem\")\n",
    "flattened_df.printSchema()\n",
    "flattened_df.select(\"InvoiceNumber\", \"City\", \"State\", \"ItemCode\", \"ItemDescription\", \"ItemPrice\", \"ItemQty\").show(5, truncate = False)\n",
    "\n"
   ]
  }
 ],
 "metadata": {
  "kernelspec": {
   "display_name": "Python 3 (ipykernel)",
   "language": "python",
   "name": "python3"
  },
  "language_info": {
   "codemirror_mode": {
    "name": "ipython",
    "version": 3
   },
   "file_extension": ".py",
   "mimetype": "text/x-python",
   "name": "python",
   "nbconvert_exporter": "python",
   "pygments_lexer": "ipython3",
   "version": "3.11.7"
  }
 },
 "nbformat": 4,
 "nbformat_minor": 5
}
