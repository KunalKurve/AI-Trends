{
 "cells": [
  {
   "cell_type": "code",
   "execution_count": 1,
   "id": "f3559614",
   "metadata": {},
   "outputs": [],
   "source": [
    "# Intialization\n",
    "import os\n",
    "import sys\n",
    "\n",
    "os.environ[\"SPARK_HOME\"] = \"/home/talentum/spark\"\n",
    "os.environ[\"PYLIB\"] = os.environ[\"SPARK_HOME\"] + \"/python/lib\"\n",
    "# In below two lines, use /usr/bin/python2.7 if you want to use Python 2\n",
    "os.environ[\"PYSPARK_PYTHON\"] = \"/usr/bin/python3.6\"\n",
    "os.environ[\"PYSPARK_DRIVER_PYTHON\"] = \"/usr/bin/python3\"\n",
    "sys.path.insert(0, os.environ[\"PYLIB\"] +\"/py4j-0.10.7-src.zip\")\n",
    "sys.path.insert(0, os.environ[\"PYLIB\"] +\"/pyspark.zip\")\n",
    "\n",
    "# NOTE: Whichever package you want mention here.\n",
    "# os.environ['PYSPARK_SUBMIT_ARGS'] = '--packages com.databricks:spark-xml_2.11:0.6.0 pyspark-shell'\n",
    "# os.environ['PYSPARK_SUBMIT_ARGS'] = '--packages org.apache.spark:spark-avro_2.11:2.4.0 pyspark-shell'\n",
    "os.environ['PYSPARK_SUBMIT_ARGS'] = '--packages com.databricks:spark-xml_2.11:0.6.0,org.apache.spark:spark-avro_2.11:2.4.3 pyspark-shell'\n",
    "# os.environ['PYSPARK_SUBMIT_ARGS'] = '--packages com.databricks:spark-xml_2.11:0.6.0,org.apache.spark:spark-avro_2.11:2.4.0 pyspark-shell'"
   ]
  },
  {
   "cell_type": "code",
   "execution_count": 2,
   "id": "638c99c7",
   "metadata": {},
   "outputs": [],
   "source": [
    "#Entrypoint 2.x\n",
    "from pyspark.sql import SparkSession\n",
    "spark = SparkSession.builder.appName(\"Spark SQL basic example\").enableHiveSupport().getOrCreate()\n",
    "\n",
    "# On yarn:\n",
    "# spark = SparkSession.builder.appName(\"Spark SQL basic example\").enableHiveSupport().master(\"yarn\").getOrCreate()\n",
    "# specify .master(\"yarn\")\n",
    "\n",
    "sc = spark.sparkContext"
   ]
  },
  {
   "cell_type": "code",
   "execution_count": 16,
   "id": "bc0b976a",
   "metadata": {},
   "outputs": [
    {
     "name": "stdout",
     "output_type": "stream",
     "text": [
      "http://hortonworks.com/,hadoop,webinars,articles,download,enterprise,team,reliability\n",
      "http://hortonworks.com/products/,hortonworks,services,core,feed,deployments,board,required\n",
      "http://hortonworks.com/products/hortonworksdataplatform/,apache,password,directors,enterprise\n",
      "http://hortonworks.com/get-started/,data,downloads,founders,hdp,deployments\n",
      "http://hortonworks.com/download/,register,hadoop,hdp,download,presentations,videos\n",
      "http://hortonworks.com/community/,connect,password,download,articles,knowledgebase,hadoop\n",
      "http://hortonworks.com/kb,platform,feed,core,hadoop\n",
      "http://hortonworks.com/about-us/,about,hortonworks,apache,hadoop,founders,directors\n",
      "http://hortonworks.com/about-us/contact-us/,contact,support,hortonworks,hdp,enterprise\n",
      "http://hortonworks.com/resources/,hadoop,services,training,videos\n"
     ]
    }
   ],
   "source": [
    "'''\n",
    "1. View the contents of the file hortonworks.txt . It represents semi-structured\n",
    "\n",
    "content where the first string in each line is a Web page URL, followed by a comma-\n",
    "separated list of terms that appear on that particular Web page.\n",
    "'''\n",
    "\n",
    "# set the path\n",
    "file_path = \"file:///home/talentum/test-jupyter/Evalution_Labs/hortonworks.txt\"\n",
    "\n",
    "# read path\n",
    "fileRDD = sc.textFile(file_path)\n",
    "\n",
    "# View the contents (first 10 lines)\n",
    "first_lines = fileRDD.take(10)  \n",
    "\n",
    "for line in first_lines:\n",
    "  print(line)"
   ]
  },
  {
   "cell_type": "code",
   "execution_count": 17,
   "id": "0780f3be",
   "metadata": {},
   "outputs": [
    {
     "name": "stdout",
     "output_type": "stream",
     "text": [
      "hadoop http://hortonworks.com/,http://hortonworks.com/download/,http://hortonworks.com/community/,http://hortonworks.com/kb,http://hortonworks.com/about-us/,http://hortonworks.com/resources/,http://hortonworks.com/webinars/,http://hortonworks.com/resources/,http://hortonworks.com/hadoop-training/\n",
      "webinars http://hortonworks.com/\n",
      "enterprise http://hortonworks.com/,http://hortonworks.com/products/hortonworksdataplatform/,http://hortonworks.com/about-us/contact-us/\n",
      "team http://hortonworks.com/\n",
      "reliability http://hortonworks.com/,http://hortonworks.com/resources/\n",
      "feed http://hortonworks.com/products/,http://hortonworks.com/kb,http://hortonworks.com/resources/\n",
      "board http://hortonworks.com/products/\n",
      "password http://hortonworks.com/products/hortonworksdataplatform/,http://hortonworks.com/community/\n",
      "hdp http://hortonworks.com/get-started/,http://hortonworks.com/download/,http://hortonworks.com/about-us/contact-us/,http://hortonworks.com/events/,http://hortonworks.com/webinars/,http://hortonworks.com/hadoop-training/\n",
      "presentations http://hortonworks.com/download/,http://hortonworks.com/resources/\n",
      "connect http://hortonworks.com/community/\n",
      "knowledgebase http://hortonworks.com/community/\n",
      "platform http://hortonworks.com/kb,http://hortonworks.com/events/,http://hortonworks.com/resources/\n",
      "support http://hortonworks.com/about-us/contact-us/\n",
      "training http://hortonworks.com/resources/,http://hortonworks.com/events/,http://hortonworks.com/hadoop-training/\n",
      "webinar http://hortonworks.com/webinars/\n",
      "instructor-led http://hortonworks.com/hadoop-training/\n",
      "articles http://hortonworks.com/,http://hortonworks.com/community/\n",
      "download http://hortonworks.com/,http://hortonworks.com/download/,http://hortonworks.com/community/\n",
      "hortonworks http://hortonworks.com/products/,http://hortonworks.com/about-us/,http://hortonworks.com/about-us/contact-us/\n",
      "services http://hortonworks.com/products/,http://hortonworks.com/resources/\n",
      "core http://hortonworks.com/products/,http://hortonworks.com/kb\n",
      "deployments http://hortonworks.com/products/,http://hortonworks.com/get-started/\n",
      "required http://hortonworks.com/products/\n",
      "apache http://hortonworks.com/products/hortonworksdataplatform/,http://hortonworks.com/about-us/\n",
      "directors http://hortonworks.com/products/hortonworksdataplatform/,http://hortonworks.com/about-us/\n",
      "data http://hortonworks.com/get-started/\n",
      "downloads http://hortonworks.com/get-started/,http://hortonworks.com/events/\n",
      "founders http://hortonworks.com/get-started/,http://hortonworks.com/about-us/\n",
      "register http://hortonworks.com/download/\n",
      "videos http://hortonworks.com/download/,http://hortonworks.com/resources/,http://hortonworks.com/events/,http://hortonworks.com/webinars/\n",
      "about http://hortonworks.com/about-us/\n",
      "contact http://hortonworks.com/about-us/contact-us/\n",
      "blog http://hortonworks.com/resources/\n",
      "certification http://hortonworks.com/hadoop-training/\n",
      "courses http://hortonworks.com/hadoop-training/\n",
      "learn http://hortonworks.com/hadoop-training/\n"
     ]
    }
   ],
   "source": [
    "'''\n",
    "2. Write a Spark application using Rdd that takes a set of <key,value> pairs (key is Web\n",
    "page URL and Value is list of terms on the web page) and inverts the index, so that\n",
    "each value(term) becomes a key, and the list of Web page URLs where that term is\n",
    "appearing as a list of values. You can see from the output file how this information\n",
    "could be used as the beginnings of a web search engine.\n",
    "'''\n",
    "\n",
    "# split RDD lines into words\n",
    "splitRDD = fileRDD.map(lambda line: line.split(','))\n",
    "\n",
    "# creating flatmap so url is value and remaning words are keys\n",
    "flatmapRDD = splitRDD.flatMap(lambda line: ((word, line[0]) for word in line[1:]))\n",
    "\n",
    "# reduce by keys\n",
    "finalRDD = flatmapRDD.reduceByKey(lambda url1, url2: url1 + ',' + url2)\n",
    "\n",
    "# print the key, value\n",
    "for key, value in finalRDD.collect():\n",
    "    print(key, value)"
   ]
  }
 ],
 "metadata": {
  "kernelspec": {
   "display_name": "Python 3 (ipykernel)",
   "language": "python",
   "name": "python3"
  },
  "language_info": {
   "codemirror_mode": {
    "name": "ipython",
    "version": 3
   },
   "file_extension": ".py",
   "mimetype": "text/x-python",
   "name": "python",
   "nbconvert_exporter": "python",
   "pygments_lexer": "ipython3",
   "version": "3.11.7"
  }
 },
 "nbformat": 4,
 "nbformat_minor": 5
}
