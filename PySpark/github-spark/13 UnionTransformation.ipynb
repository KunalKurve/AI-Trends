{
 "cells": [
  {
   "cell_type": "code",
   "execution_count": 2,
   "id": "a47c2000",
   "metadata": {},
   "outputs": [],
   "source": [
    "# Intialization\n",
    "import os\n",
    "import sys\n",
    "from pyspark.sql import SparkSession\n",
    "\n",
    "os.environ[\"SPARK_HOME\"] = \"/home/talentum/spark\"\n",
    "os.environ[\"PYLIB\"] = os.environ[\"SPARK_HOME\"] + \"/python/lib\"\n",
    "# In below two lines, use /usr/bin/python2.7 if you want to use Python 2\n",
    "os.environ[\"PYSPARK_PYTHON\"] = \"/usr/bin/python3.6\" \n",
    "os.environ[\"PYSPARK_DRIVER_PYTHON\"] = \"/usr/bin/python3\"\n",
    "sys.path.insert(0, os.environ[\"PYLIB\"] +\"/py4j-0.10.7-src.zip\")\n",
    "sys.path.insert(0, os.environ[\"PYLIB\"] +\"/pyspark.zip\")\n",
    "\n",
    "# NOTE: Whichever package you want mention here.\n",
    "# os.environ['PYSPARK_SUBMIT_ARGS'] = '--packages com.databricks:spark-xml_2.11:0.6.0 pyspark-shell' \n",
    "# os.environ['PYSPARK_SUBMIT_ARGS'] = '--packages org.apache.spark:spark-avro_2.11:2.4.0 pyspark-shell'\n",
    "os.environ['PYSPARK_SUBMIT_ARGS'] = '--packages com.databricks:spark-xml_2.11:0.6.0,org.apache.spark:spark-avro_2.11:2.4.3 pyspark-shell'\n",
    "# os.environ['PYSPARK_SUBMIT_ARGS'] = '--packages com.databricks:spark-xml_2.11:0.6.0,org.apache.spark:spark-avro_2.11:2.4.0 pyspark-shell'"
   ]
  },
  {
   "cell_type": "code",
   "execution_count": 3,
   "id": "fb5b2573",
   "metadata": {},
   "outputs": [],
   "source": [
    "#Entrypoint 2.x\n",
    "spark = SparkSession.builder.appName(\"Spark SQL basic example\").enableHiveSupport().getOrCreate()\n",
    "\n",
    "# On yarn:\n",
    "# spark = SparkSession.builder.appName(\"Spark SQL basic example\").enableHiveSupport().master(\"yarn\").getOrCreate()\n",
    "# specify .master(\"yarn\")\n",
    "\n",
    "sc = spark.sparkContext"
   ]
  },
  {
   "cell_type": "code",
   "execution_count": 8,
   "id": "3401dc36",
   "metadata": {},
   "outputs": [
    {
     "name": "stdout",
     "output_type": "stream",
     "text": [
      "The total number of lines with the keyword Error is 15\n",
      "The total number of lines with the keyword WARN is 4\n",
      "The total number of lines in union 19\n"
     ]
    }
   ],
   "source": [
    "file_path = 'file:////home/talentum/shared/hadoop-hdfs-namenode-node.log' \n",
    "\n",
    "# Create a fileRDD from file_path\n",
    "fileRDD = sc.textFile(file_path)\n",
    "\n",
    "# Filter the fileRDD to select lines with ERROR keyword\n",
    "fileRDD_ERROR = fileRDD.filter(lambda line: 'ERROR' in line)\n",
    "\n",
    "# Filter the fileRDD to select lines with WARN keyword\n",
    "fileRDD_WARN = fileRDD.filter(lambda line: 'WARN' in line)\n",
    "\n",
    "# Union the fileRDD_ERROR and fileRDD_WARN\n",
    "fileRDD_UNION = fileRDD_ERROR.union(fileRDD_WARN)\n",
    "\n",
    "#To get number of partitions\n",
    "print(fileRDD_UNION.getNumPartitions())"
   ]
  },
  {
   "cell_type": "code",
   "execution_count": 26,
   "id": "63fcd4e9",
   "metadata": {},
   "outputs": [],
   "source": [
    "# To convert partitions in one part\n",
    "fileRDD_UNION1 = fileRDD_UNION.coalesce(1)\n",
    "print(fileRDD_UNION1.getNumPartitions())"
   ]
  },
  {
   "cell_type": "markdown",
   "id": "b398df3b",
   "metadata": {},
   "source": [
    "### Save in Local Drive"
   ]
  },
  {
   "cell_type": "code",
   "execution_count": 30,
   "id": "444443d5",
   "metadata": {},
   "outputs": [],
   "source": [
    "# Saving RDD as text file  \n",
    "#path1 = os.path.join('/home/talentum/', \"UNION_file_lab2\")  # UNION_file_lab2 --> folder/file name we want to give\n",
    "#fileRDD_UNION.saveAsTextFile('file://' + path1)\n",
    "\n",
    "# We don't save in shared folder as it is in root directory and we don't have permission to make changes to it\n",
    "\n",
    "#Alertnate method\n",
    "fileRDD_UNION1.saveAsTextFile('file:///home/talentum/UNION_file_lab_1P')\n",
    "\n",
    "print(fileRDD_UNION1.getNumPartitions())"
   ]
  }
 ],
 "metadata": {
  "kernelspec": {
   "display_name": "Python 3 (ipykernel)",
   "language": "python",
   "name": "python3"
  },
  "language_info": {
   "codemirror_mode": {
    "name": "ipython",
    "version": 3
   },
   "file_extension": ".py",
   "mimetype": "text/x-python",
   "name": "python",
   "nbconvert_exporter": "python",
   "pygments_lexer": "ipython3",
   "version": "3.11.7"
  }
 },
 "nbformat": 4,
 "nbformat_minor": 5
}
