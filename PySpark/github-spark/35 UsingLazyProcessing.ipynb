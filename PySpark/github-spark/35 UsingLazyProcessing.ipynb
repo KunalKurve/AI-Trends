{
 "cells": [
  {
   "cell_type": "markdown",
   "id": "24b65821",
   "metadata": {},
   "source": [
    "# Using lazy processing\n",
    "\n",
    "- Lazy processing operations will usually return in about the same amount of time regardless of the actual quantity of data. Remember that this is due to Spark not performing any transformations until an action is requested.\n",
    "\n",
    "- For this exercise, we'll be defining a Data Frame (`aa_dfw_df`) and add a couple transformations. Note the amount of time required for the transformations to complete when defined vs when the data is actually queried. These differences may be short, but they will be noticeable. When working with a full Spark cluster with larger quantities of data the difference will be more apparent."
   ]
  },
  {
   "cell_type": "markdown",
   "id": "be50ef46",
   "metadata": {},
   "source": [
    "## Instructions\n",
    "\n",
    "- Load the Data Frame.\n",
    "- Add the transformation for `F.lower()` to the `Destination Airport` column.\n",
    "- Drop the `Destination Airport` column from the Data Frame `aa_dfw_df`. Note the time for these operations to complete.\n",
    "- Show the Data Frame, noting the time difference for this action to complete."
   ]
  },
  {
   "cell_type": "code",
   "execution_count": 1,
   "id": "0de212f9",
   "metadata": {},
   "outputs": [],
   "source": [
    "# Intialization\n",
    "import os\n",
    "import sys\n",
    "\n",
    "os.environ[\"SPARK_HOME\"] = \"/home/talentum/spark\"\n",
    "os.environ[\"PYLIB\"] = os.environ[\"SPARK_HOME\"] + \"/python/lib\"\n",
    "# In below two lines, use /usr/bin/python2.7 if you want to use Python 2\n",
    "os.environ[\"PYSPARK_PYTHON\"] = \"/usr/bin/python3.6\" \n",
    "os.environ[\"PYSPARK_DRIVER_PYTHON\"] = \"/usr/bin/python3\"\n",
    "sys.path.insert(0, os.environ[\"PYLIB\"] +\"/py4j-0.10.7-src.zip\")\n",
    "sys.path.insert(0, os.environ[\"PYLIB\"] +\"/pyspark.zip\")\n",
    "\n",
    "# NOTE: Whichever package you want mention here.\n",
    "# os.environ['PYSPARK_SUBMIT_ARGS'] = '--packages com.databricks:spark-xml_2.11:0.6.0 pyspark-shell' \n",
    "# os.environ['PYSPARK_SUBMIT_ARGS'] = '--packages org.apache.spark:spark-avro_2.11:2.4.0 pyspark-shell'\n",
    "os.environ['PYSPARK_SUBMIT_ARGS'] = '--packages com.databricks:spark-xml_2.11:0.6.0,org.apache.spark:spark-avro_2.11:2.4.3 pyspark-shell'\n",
    "# os.environ['PYSPARK_SUBMIT_ARGS'] = '--packages com.databricks:spark-xml_2.11:0.6.0,org.apache.spark:spark-avro_2.11:2.4.0 pyspark-shell'"
   ]
  },
  {
   "cell_type": "code",
   "execution_count": 2,
   "id": "cc0b6d9b",
   "metadata": {},
   "outputs": [],
   "source": [
    "#Entrypoint 2.x\n",
    "from pyspark.sql import SparkSession\n",
    "spark = SparkSession.builder.appName(\"Spark SQL basic example\").enableHiveSupport().getOrCreate()\n",
    "\n",
    "# On yarn:\n",
    "# spark = SparkSession.builder.appName(\"Spark SQL basic example\").enableHiveSupport().master(\"yarn\").getOrCreate()\n",
    "# specify .master(\"yarn\")\n",
    "\n",
    "sc = spark.sparkContext"
   ]
  },
  {
   "cell_type": "code",
   "execution_count": 13,
   "id": "ef0ec361",
   "metadata": {},
   "outputs": [
    {
     "name": "stdout",
     "output_type": "stream",
     "text": [
      "<bound method DataFrame.printSchema of DataFrame[Date (MM/DD/YYYY): string, Flight Number: string, Destination Airport: string, Actual elapsed time (Minutes): string]>\n",
      "<bound method DataFrame.printSchema of DataFrame[Date (MM/DD/YYYY): string, Flight Number: string, Destination Airport: string, Actual elapsed time (Minutes): string, airport: string]>\n",
      "<bound method DataFrame.printSchema of DataFrame[Date (MM/DD/YYYY): string, Flight Number: string, Actual elapsed time (Minutes): string, airport: string]>\n",
      "+-----------------+-------------+-----------------------------+-------+\n",
      "|Date (MM/DD/YYYY)|Flight Number|Actual elapsed time (Minutes)|airport|\n",
      "+-----------------+-------------+-----------------------------+-------+\n",
      "|       01/01/2018|         0005|                          498|    hnl|\n",
      "|       01/01/2018|         0007|                          501|    ogg|\n",
      "|       01/01/2018|         0043|                            0|    dtw|\n",
      "|       01/01/2018|         0051|                          100|    stl|\n",
      "|       01/01/2018|         0075|                          147|    dca|\n",
      "|       01/01/2018|         0096|                           92|    stl|\n",
      "|       01/01/2018|         0103|                          227|    sjc|\n",
      "|       01/01/2018|         0119|                          517|    ogg|\n",
      "|       01/01/2018|         0123|                          489|    hnl|\n",
      "|       01/01/2018|         0128|                          141|    mco|\n",
      "|       01/01/2018|         0132|                          201|    ewr|\n",
      "|       01/01/2018|         0140|                          215|    sjc|\n",
      "|       01/01/2018|         0174|                          140|    rdu|\n",
      "|       01/01/2018|         0190|                           68|    sat|\n",
      "|       01/01/2018|         0200|                          215|    sfo|\n",
      "|       01/01/2018|         0209|                          169|    mia|\n",
      "|       01/01/2018|         0217|                          178|    las|\n",
      "|       01/01/2018|         0229|                          534|    koa|\n",
      "|       01/01/2018|         0244|                          115|    cvg|\n",
      "|       01/01/2018|         0262|                          159|    mia|\n",
      "+-----------------+-------------+-----------------------------+-------+\n",
      "only showing top 20 rows\n",
      "\n"
     ]
    }
   ],
   "source": [
    "# Load the CSV file \n",
    "import pyspark.sql.functions as F\n",
    "aa_dfw_df = spark.read.format('csv').options(Header=True).load('file:////home/talentum/shared/2_Immutabilityandlazyprocessing/Dataset/AA_DFW_2018_Departures_Short.csv.gz')\n",
    "print(aa_dfw_df.printSchema)\n",
    "\n",
    "# Add the airport column using the F.lower() method\n",
    "aa_dfw_df = aa_dfw_df.withColumn('airport', F.lower(aa_dfw_df['Destination Airport']))\n",
    "print(aa_dfw_df.printSchema)\n",
    "\n",
    "# Drop the Destination Airport column\n",
    "aa_dfw_df = aa_dfw_df.drop(aa_dfw_df['Destination Airport'])\n",
    "print(aa_dfw_df.printSchema)\n",
    "\n",
    "# Show the DataFrame\n",
    "aa_dfw_df.show()\n"
   ]
  },
  {
   "cell_type": "code",
   "execution_count": 21,
   "id": "e1c710ad",
   "metadata": {},
   "outputs": [
    {
     "name": "stdout",
     "output_type": "stream",
     "text": [
      "root\n",
      " |-- Date (MM/DD/YYYY): string (nullable = true)\n",
      " |-- Flight Number: integer (nullable = true)\n",
      " |-- Destination Airport: string (nullable = true)\n",
      " |-- Actual elapsed time (Minutes): integer (nullable = true)\n",
      "\n",
      "None\n",
      "root\n",
      " |-- Date (MM/DD/YYYY): string (nullable = true)\n",
      " |-- Flight Number: integer (nullable = true)\n",
      "\n",
      "None\n"
     ]
    }
   ],
   "source": [
    "# Load the CSV file \n",
    "import pyspark.sql.functions as F\n",
    "aa_dfw_df1 = spark.read.csv('file:////home/talentum/shared/2_Immutabilityandlazyprocessing/Dataset/AA_DFW_2018_Departures_Short.csv.gz', header=True, inferSchema=True)\n",
    "print(aa_dfw_df1.printSchema())\n",
    "\n",
    "aa_dfw_df2 = aa_dfw_df1.select('Date (MM/DD/YYYY)','Flight Number')\n",
    "print(aa_dfw_df2.printSchema())\n",
    "\n"
   ]
  },
  {
   "cell_type": "code",
   "execution_count": 23,
   "id": "ae3bf143",
   "metadata": {},
   "outputs": [],
   "source": [
    "aa_dfw_df2.write.csv(\"file:///home/talentum/test.csv\")"
   ]
  },
  {
   "cell_type": "code",
   "execution_count": 26,
   "id": "a3df651b",
   "metadata": {},
   "outputs": [
    {
     "name": "stdout",
     "output_type": "stream",
     "text": [
      "root\n",
      " |-- Date (MM/DD/YYYY): string (nullable = true)\n",
      " |-- Flight Number: integer (nullable = true)\n",
      "\n",
      "None\n"
     ]
    }
   ],
   "source": [
    "# to load data without inferSchema using structType()\n",
    "\n",
    "# Import the pyspark.sql.types library\n",
    "import pyspark.sql.types\n",
    "\n",
    "# Define a new schema using the StructType method\n",
    "people_schema = StructType([\n",
    "  # Define a StructField for each field\n",
    "  StructField('Date (MM/DD/YYYY)', StringType(), False),\n",
    "  StructField('Flight Number', IntegerType(), False)\n",
    "])\n",
    "\n",
    "\n",
    "aa_dfw_df1 = spark.read.format('csv').load('file:////home/talentum/shared/2_Immutabilityandlazyprocessing/Dataset/AA_DFW_2018_Departures_Short.csv.gz', schema=people_schema)\n",
    "print(aa_dfw_df1.printSchema())\n"
   ]
  },
  {
   "cell_type": "code",
   "execution_count": null,
   "id": "ccc19f81",
   "metadata": {},
   "outputs": [],
   "source": [
    "# to load data using parquet() --> it stores data with metadata"
   ]
  }
 ],
 "metadata": {
  "kernelspec": {
   "display_name": "Python 3 (ipykernel)",
   "language": "python",
   "name": "python3"
  },
  "language_info": {
   "codemirror_mode": {
    "name": "ipython",
    "version": 3
   },
   "file_extension": ".py",
   "mimetype": "text/x-python",
   "name": "python",
   "nbconvert_exporter": "python",
   "pygments_lexer": "ipython3",
   "version": "3.11.7"
  }
 },
 "nbformat": 4,
 "nbformat_minor": 5
}
